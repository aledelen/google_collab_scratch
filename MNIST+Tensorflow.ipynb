{
  "nbformat": 4,
  "nbformat_minor": 0,
  "metadata": {
    "colab": {
      "name": "MNIST+Tensorflow.ipynb",
      "version": "0.3.2",
      "views": {},
      "default_view": {},
      "provenance": []
    },
    "kernelspec": {
      "name": "python2",
      "display_name": "Python 2"
    },
    "accelerator": "GPU"
  },
  "cells": [
    {
      "metadata": {
        "id": "idAaDbRGxzGb",
        "colab_type": "code",
        "colab": {
          "autoexec": {
            "startup": false,
            "wait_interval": 0
          },
          "output_extras": [
            {
              "item_id": 2
            }
          ],
          "base_uri": "https://localhost:8080/",
          "height": 85
        },
        "outputId": "27e92099-3b92-4057-8beb-b4c8a6603f71",
        "executionInfo": {
          "status": "ok",
          "timestamp": 1516832176129,
          "user_tz": 480,
          "elapsed": 1396,
          "user": {
            "displayName": "Kazuhiro Terao",
            "photoUrl": "//lh5.googleusercontent.com/-_7jpuLVCIyg/AAAAAAAAAAI/AAAAAAAAAKA/FBb7ILdJ9e4/s50-c-k-no/photo.jpg",
            "userId": "101948890834834502389"
          }
        }
      },
      "cell_type": "code",
      "source": [
        "import numpy as np\n",
        "import matplotlib\n",
        "import matplotlib.pyplot as plt\n",
        "%matplotlib inline\n",
        "import tensorflow as tf\n",
        "sess = tf.InteractiveSession()\n",
        "\n",
        "from tensorflow.examples.tutorials.mnist import input_data\n",
        "mnist = input_data.read_data_sets('MNIST_data', one_hot=True)"
      ],
      "execution_count": 1,
      "outputs": [
        {
          "output_type": "stream",
          "text": [
            "Extracting MNIST_data/train-images-idx3-ubyte.gz\n",
            "Extracting MNIST_data/train-labels-idx1-ubyte.gz\n",
            "Extracting MNIST_data/t10k-images-idx3-ubyte.gz\n",
            "Extracting MNIST_data/t10k-labels-idx1-ubyte.gz\n"
          ],
          "name": "stdout"
        }
      ]
    },
    {
      "metadata": {
        "id": "mXfDyiy1yGqf",
        "colab_type": "code",
        "colab": {
          "autoexec": {
            "startup": false,
            "wait_interval": 0
          }
        }
      },
      "cell_type": "code",
      "source": [
        "def weight_variable(shape):\n",
        "  initial = tf.truncated_normal(shape, stddev=0.1)\n",
        "  return tf.Variable(initial)\n",
        "\n",
        "def bias_variable(shape):\n",
        "  initial = tf.constant(0.1, shape=shape)\n",
        "  return tf.Variable(initial)\n",
        "def conv2d(x, W):\n",
        "  return tf.nn.conv2d(x, W, strides=[1, 1, 1, 1], padding='SAME')\n",
        "\n",
        "def max_pool_2x2(x):\n",
        "  return tf.nn.max_pool(x, ksize=[1, 2, 2, 1],\n",
        "                        strides=[1, 2, 2, 1], padding='SAME')"
      ],
      "execution_count": 0,
      "outputs": []
    },
    {
      "metadata": {
        "id": "X5JCJR6XyKRX",
        "colab_type": "code",
        "colab": {
          "autoexec": {
            "startup": false,
            "wait_interval": 0
          }
        }
      },
      "cell_type": "code",
      "source": [
        "images   = tf.placeholder(tf.float32, shape=[None, 784])\n",
        "labels   = tf.placeholder(tf.float32, shape=[None, 10])\n",
        "image2d = tf.reshape(images, [-1, 28, 28, 1])"
      ],
      "execution_count": 0,
      "outputs": []
    },
    {
      "metadata": {
        "id": "dFiIcyoAyL4S",
        "colab_type": "code",
        "colab": {
          "autoexec": {
            "startup": false,
            "wait_interval": 0
          }
        }
      },
      "cell_type": "code",
      "source": [
        "\n",
        "# convolution layer\n",
        "with tf.variable_scope(\"conv1\"):\n",
        "  W_conv1 = weight_variable([5, 5, 1, 32])\n",
        "  b_conv1 = bias_variable([32])\n",
        "  h_conv1 = tf.nn.relu(conv2d(image2d, W_conv1) + b_conv1)\n",
        "with tf.variable_scope(\"pool1\"):\n",
        "  h_pool1 = max_pool_2x2(h_conv1)\n",
        "# convolution layer  \n",
        "with tf.variable_scope(\"conv2\"):\n",
        "  W_conv2 = weight_variable([5, 5, 32, 64])\n",
        "  b_conv2 = bias_variable([64])\n",
        "  h_conv2 = tf.nn.relu(conv2d(h_pool1, W_conv2) + b_conv2)\n",
        "with tf.variable_scope(\"pool2\"):\n",
        "  h_pool2 = max_pool_2x2(h_conv2)\n",
        "# fc layer\n",
        "with tf.variable_scope(\"fc1\"):\n",
        "  W_fc1 = weight_variable([7 * 7 * 64, 1024])\n",
        "  b_fc1 = bias_variable([1024])\n",
        "  h_pool2_flat = tf.reshape(h_pool2, [-1, 7*7*64])\n",
        "  h_fc1 = tf.nn.relu(tf.matmul(h_pool2_flat, W_fc1) + b_fc1)\n",
        "  keep_prob = tf.placeholder(tf.float32)\n",
        "  h_fc1_drop = tf.nn.dropout(h_fc1, keep_prob)\n",
        "# fc layer \n",
        "with tf.variable_scope(\"fc2\"):\n",
        "  W_fc2 = weight_variable([1024, 10])\n",
        "  b_fc2 = bias_variable([10])\n",
        "  prediction = tf.matmul(h_fc1_drop, W_fc2) + b_fc2\n",
        "# train operation\n",
        "with tf.variable_scope(\"train\"):\n",
        "  cross_entropy = tf.reduce_mean(tf.nn.softmax_cross_entropy_with_logits(labels=labels, logits=prediction))\n",
        "  train_step = tf.train.AdamOptimizer(1e-4).minimize(cross_entropy)\n",
        "\n",
        "with tf.variable_scope(\"analysis\"):\n",
        "  correct_prediction = tf.equal(tf.argmax(prediction, 1), tf.argmax(labels, 1))\n",
        "  accuracy = tf.reduce_mean(tf.cast(correct_prediction, tf.float32))\n",
        "  softmax = tf.nn.softmax(logits=prediction)\n",
        "  prediction_label = tf.argmax(prediction,1)\n"
      ],
      "execution_count": 0,
      "outputs": []
    },
    {
      "metadata": {
        "id": "5Lq5b4lMGRsa",
        "colab_type": "code",
        "colab": {
          "autoexec": {
            "startup": false,
            "wait_interval": 0
          },
          "output_extras": [
            {
              "item_id": 6
            }
          ],
          "base_uri": "https://localhost:8080/",
          "height": 119
        },
        "outputId": "148c5aca-0845-4246-dcc3-6e60d106d8c2",
        "executionInfo": {
          "status": "ok",
          "timestamp": 1516832188205,
          "user_tz": 480,
          "elapsed": 6941,
          "user": {
            "displayName": "Kazuhiro Terao",
            "photoUrl": "//lh5.googleusercontent.com/-_7jpuLVCIyg/AAAAAAAAAAI/AAAAAAAAAKA/FBb7ILdJ9e4/s50-c-k-no/photo.jpg",
            "userId": "101948890834834502389"
          }
        }
      },
      "cell_type": "code",
      "source": [
        "# Training w/ 500 steps\n",
        "sess.run(tf.global_variables_initializer())\n",
        "for i in range(500):\n",
        "  batch = mnist.train.next_batch(50)\n",
        "  if i % 100 == 0:\n",
        "    train_accuracy = accuracy.eval(feed_dict={\n",
        "        images: batch[0], labels: batch[1], keep_prob: 1.0})\n",
        "    print('step %d, training accuracy %g' % (i, train_accuracy))\n",
        "  train_step.run(feed_dict={images: batch[0], labels: batch[1], keep_prob: 0.5})\n",
        "print('test accuracy %g' % accuracy.eval(feed_dict={images: mnist.test.images, labels: mnist.test.labels, keep_prob: 1.0}))\n",
        "      "
      ],
      "execution_count": 7,
      "outputs": [
        {
          "output_type": "stream",
          "text": [
            "step 0, training accuracy 0.1\n",
            "step 100, training accuracy 0.8\n",
            "step 200, training accuracy 0.86\n",
            "step 300, training accuracy 0.86\n",
            "step 400, training accuracy 0.92\n",
            "test accuracy 0.9428\n"
          ],
          "name": "stdout"
        }
      ]
    },
    {
      "metadata": {
        "id": "gnNwvx9mOyTg",
        "colab_type": "code",
        "colab": {
          "autoexec": {
            "startup": false,
            "wait_interval": 0
          },
          "output_extras": [
            {
              "item_id": 1
            },
            {
              "item_id": 2
            },
            {
              "item_id": 3
            },
            {
              "item_id": 4
            },
            {
              "item_id": 5
            },
            {
              "item_id": 6
            },
            {
              "item_id": 7
            },
            {
              "item_id": 8
            },
            {
              "item_id": 9
            },
            {
              "item_id": 10
            },
            {
              "item_id": 11
            },
            {
              "item_id": 12
            },
            {
              "item_id": 13
            },
            {
              "item_id": 14
            },
            {
              "item_id": 15
            },
            {
              "item_id": 16
            },
            {
              "item_id": 17
            },
            {
              "item_id": 18
            },
            {
              "item_id": 19
            },
            {
              "item_id": 20
            }
          ],
          "base_uri": "https://localhost:8080/",
          "height": 2667
        },
        "outputId": "8f15ba64-d5f7-483c-b78a-8ae3d08f6612",
        "executionInfo": {
          "status": "ok",
          "timestamp": 1516832594263,
          "user_tz": 480,
          "elapsed": 1772,
          "user": {
            "displayName": "Kazuhiro Terao",
            "photoUrl": "//lh5.googleusercontent.com/-_7jpuLVCIyg/AAAAAAAAAAI/AAAAAAAAAKA/FBb7ILdJ9e4/s50-c-k-no/photo.jpg",
            "userId": "101948890834834502389"
          }
        }
      },
      "cell_type": "code",
      "source": [
        "# Dump some output images\n",
        "prob_array, pred_label, = sess.run([softmax,prediction_label],feed_dict={images: mnist.test.images,keep_prob:1.0})\n",
        "for index in xrange(10):\n",
        "  print 'Prediction\\033[91m',pred_label[index],'\\033[00mwith softmax prob\\033[94m',prob_array[index][pred_label[index]],'\\033[00m'\n",
        "  plt.imshow(mnist.test.images[index].reshape([28,28]).astype(np.float32),interpolation='none')\n",
        "  plt.axis('off')\n",
        "  plt.show()\n",
        "\n"
      ],
      "execution_count": 30,
      "outputs": [
        {
          "output_type": "stream",
          "text": [
            "Prediction\u001b[91m 7 \u001b[00mwith softmax prob\u001b[94m 0.9999827 \u001b[00m\n"
          ],
          "name": "stdout"
        },
        {
          "output_type": "display_data",
          "data": {
            "image/png": "[encoded data removed]",
            "text/plain": [
              "<matplotlib.figure.Figure at 0x7fd7c6cc4990>"
            ]
          },
          "metadata": {
            "tags": []
          }
        },
        {
          "output_type": "stream",
          "text": [
            "Prediction\u001b[91m 2 \u001b[00mwith softmax prob\u001b[94m 0.99599624 \u001b[00m\n"
          ],
          "name": "stdout"
        },
        {
          "output_type": "display_data",
          "data": {
            "image/png": "[encoded data removed]",
            "text/plain": [
              "<matplotlib.figure.Figure at 0x7fd7c6711c50>"
            ]
          },
          "metadata": {
            "tags": []
          }
        },
        {
          "output_type": "stream",
          "text": [
            "Prediction\u001b[91m 1 \u001b[00mwith softmax prob\u001b[94m 0.987048 \u001b[00m\n"
          ],
          "name": "stdout"
        },
        {
          "output_type": "display_data",
          "data": {
            "image/png": "[encoded data removed]",
            "text/plain": [
              "<matplotlib.figure.Figure at 0x7fd7c6551e50>"
            ]
          },
          "metadata": {
            "tags": []
          }
        },
        {
          "output_type": "stream",
          "text": [
            "Prediction\u001b[91m 0 \u001b[00mwith softmax prob\u001b[94m 0.99959713 \u001b[00m\n"
          ],
          "name": "stdout"
        },
        {
          "output_type": "display_data",
          "data": {
            "image/png": "[encoded data removed]",
            "text/plain": [
              "<matplotlib.figure.Figure at 0x7fd7c6838250>"
            ]
          },
          "metadata": {
            "tags": []
          }
        },
        {
          "output_type": "stream",
          "text": [
            "Prediction\u001b[91m 4 \u001b[00mwith softmax prob\u001b[94m 0.9967128 \u001b[00m\n"
          ],
          "name": "stdout"
        },
        {
          "output_type": "display_data",
          "data": {
            "image/png": "[encoded data removed]",
            "text/plain": [
              "<matplotlib.figure.Figure at 0x7fd7c663c3d0>"
            ]
          },
          "metadata": {
            "tags": []
          }
        },
        {
          "output_type": "stream",
          "text": [
            "Prediction\u001b[91m 1 \u001b[00mwith softmax prob\u001b[94m 0.983707 \u001b[00m\n"
          ],
          "name": "stdout"
        },
        {
          "output_type": "display_data",
          "data": {
            "image/png": "[encoded data removed]",
            "text/plain": [
              "<matplotlib.figure.Figure at 0x7fd7c68014d0>"
            ]
          },
          "metadata": {
            "tags": []
          }
        },
        {
          "output_type": "stream",
          "text": [
            "Prediction\u001b[91m 4 \u001b[00mwith softmax prob\u001b[94m 0.94471306 \u001b[00m\n"
          ],
          "name": "stdout"
        },
        {
          "output_type": "display_data",
          "data": {
            "image/png": "[encoded data removed]",
            "text/plain": [
              "<matplotlib.figure.Figure at 0x7fd7c6c0a450>"
            ]
          },
          "metadata": {
            "tags": []
          }
        },
        {
          "output_type": "stream",
          "text": [
            "Prediction\u001b[91m 9 \u001b[00mwith softmax prob\u001b[94m 0.856636 \u001b[00m\n"
          ],
          "name": "stdout"
        },
        {
          "output_type": "display_data",
          "data": {
            "image/png": "[encoded data removed]",
            "text/plain": [
              "<matplotlib.figure.Figure at 0x7fd7c697a6d0>"
            ]
          },
          "metadata": {
            "tags": []
          }
        },
        {
          "output_type": "stream",
          "text": [
            "Prediction\u001b[91m 5 \u001b[00mwith softmax prob\u001b[94m 0.7518449 \u001b[00m\n"
          ],
          "name": "stdout"
        },
        {
          "output_type": "display_data",
          "data": {
            "image/png": "[encoded data removed]",
            "text/plain": [
              "<matplotlib.figure.Figure at 0x7fd7c664e7d0>"
            ]
          },
          "metadata": {
            "tags": []
          }
        },
        {
          "output_type": "stream",
          "text": [
            "Prediction\u001b[91m 9 \u001b[00mwith softmax prob\u001b[94m 0.8962206 \u001b[00m\n"
          ],
          "name": "stdout"
        },
        {
          "output_type": "display_data",
          "data": {
            "image/png": "[encoded data removed]",
            "text/plain": [
              "<matplotlib.figure.Figure at 0x7fd7c6ba5150>"
            ]
          },
          "metadata": {
            "tags": []
          }
        }
      ]
    }
  ]
}