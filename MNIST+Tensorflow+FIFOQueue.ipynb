{
 "cells": [
  {
   "cell_type": "code",
   "execution_count": null,
   "metadata": {
    "colab": {
     "autoexec": {
      "startup": false,
      "wait_interval": 0
     },
     "base_uri": "https://localhost:8080/",
     "height": 85,
     "output_extras": [
      {
       "item_id": 2
      }
     ]
    },
    "colab_type": "code",
    "executionInfo": {
     "elapsed": 1396,
     "status": "ok",
     "timestamp": 1516832176129,
     "user": {
      "displayName": "Kazuhiro Terao",
      "photoUrl": "//lh5.googleusercontent.com/-_7jpuLVCIyg/AAAAAAAAAAI/AAAAAAAAAKA/FBb7ILdJ9e4/s50-c-k-no/photo.jpg",
      "userId": "101948890834834502389"
     },
     "user_tz": 480
    },
    "id": "idAaDbRGxzGb",
    "outputId": "27e92099-3b92-4057-8beb-b4c8a6603f71"
   },
   "outputs": [],
   "source": [
    "import threading\n",
    "import numpy as np\n",
    "import matplotlib\n",
    "import matplotlib.pyplot as plt\n",
    "%matplotlib inline\n",
    "import os\n",
    "os.environ['TF_CPP_MIN_LOG_LEVEL'] = '3'\n",
    "%env CUDA_DEVICE_ORDER=PCI_BUS_ID\n",
    "%env CUDA_VISIBLE_DEVICES=0\n",
    "import tensorflow as tf\n",
    "#sess = tf.InteractiveSession()\n",
    "tf.set_random_seed(123)\n",
    "from tensorflow.examples.tutorials.mnist import input_data\n",
    "mnist = input_data.read_data_sets('MNIST_data', one_hot=True)"
   ]
  },
  {
   "cell_type": "code",
   "execution_count": null,
   "metadata": {
    "collapsed": true
   },
   "outputs": [],
   "source": [
    "queue_input_data  = tf.placeholder(tf.float32, shape=[100, 784])\n",
    "queue_input_label = tf.placeholder(tf.float32, shape=[100, 10])\n",
    "\n",
    "queue = tf.FIFOQueue(capacity=400, dtypes=[tf.float32, tf.float32], shapes=[[784], [10]])\n",
    "\n",
    "enqueue_op = queue.enqueue_many([queue_input_data, queue_input_label])\n",
    "dequeue_op = queue.dequeue()\n",
    "\n",
    "# tensorflow recommendation:\n",
    "# capacity = min_after_dequeue + (num_threads + a small safety margin) * batch_size\n",
    "data_batch, label_batch = tf.train.batch(dequeue_op, batch_size=50, capacity=400)\n",
    "\n",
    "def enqueue(sess):\n",
    "    while True:\n",
    "        batch = mnist.train.next_batch(100)\n",
    "        sess.run(enqueue_op, feed_dict={queue_input_data : batch[0],\n",
    "                                        queue_input_label : batch[1]})\n",
    "        #print(\"added to the queue\")\n",
    "    print(\"finished enqueueing\\n\")\n"
   ]
  },
  {
   "cell_type": "code",
   "execution_count": null,
   "metadata": {
    "colab": {
     "autoexec": {
      "startup": false,
      "wait_interval": 0
     }
    },
    "colab_type": "code",
    "collapsed": true,
    "id": "mXfDyiy1yGqf"
   },
   "outputs": [],
   "source": [
    "def weight_variable(shape):\n",
    "    initial = tf.truncated_normal(shape, stddev=0.1)\n",
    "    return tf.Variable(initial)\n",
    "\n",
    "def bias_variable(shape):\n",
    "    initial = tf.constant(0.1, shape=shape)\n",
    "    return tf.Variable(initial)\n",
    "def conv2d(x, W):\n",
    "    return tf.nn.conv2d(x, W, strides=[1, 1, 1, 1], padding='SAME')\n",
    "\n",
    "def max_pool_2x2(x):\n",
    "    return tf.nn.max_pool(x, ksize=[1, 2, 2, 1],\n",
    "                          strides=[1, 2, 2, 1], padding='SAME')"
   ]
  },
  {
   "cell_type": "code",
   "execution_count": null,
   "metadata": {
    "colab": {
     "autoexec": {
      "startup": false,
      "wait_interval": 0
     }
    },
    "colab_type": "code",
    "collapsed": true,
    "id": "X5JCJR6XyKRX"
   },
   "outputs": [],
   "source": [
    "images  = data_batch\n",
    "labels  = label_batch\n",
    "image2d = tf.reshape(images, [-1, 28, 28, 1])"
   ]
  },
  {
   "cell_type": "code",
   "execution_count": null,
   "metadata": {
    "colab": {
     "autoexec": {
      "startup": false,
      "wait_interval": 0
     }
    },
    "colab_type": "code",
    "collapsed": true,
    "id": "dFiIcyoAyL4S"
   },
   "outputs": [],
   "source": [
    "\n",
    "# convolution layer\n",
    "with tf.variable_scope(\"conv1\"):\n",
    "    W_conv1 = weight_variable([5, 5, 1, 32])\n",
    "    b_conv1 = bias_variable([32])\n",
    "    h_conv1 = tf.nn.relu(conv2d(image2d, W_conv1) + b_conv1)\n",
    "with tf.variable_scope(\"pool1\"):\n",
    "    h_pool1 = max_pool_2x2(h_conv1)\n",
    "# convolution layer  \n",
    "with tf.variable_scope(\"conv2\"):\n",
    "    W_conv2 = weight_variable([5, 5, 32, 64])\n",
    "    b_conv2 = bias_variable([64])\n",
    "    h_conv2 = tf.nn.relu(conv2d(h_pool1, W_conv2) + b_conv2)\n",
    "with tf.variable_scope(\"pool2\"):\n",
    "    h_pool2 = max_pool_2x2(h_conv2)\n",
    "# fc layer\n",
    "with tf.variable_scope(\"fc1\"):\n",
    "    W_fc1 = weight_variable([7 * 7 * 64, 1024])\n",
    "    b_fc1 = bias_variable([1024])\n",
    "    h_pool2_flat = tf.reshape(h_pool2, [-1, 7*7*64])\n",
    "    h_fc1 = tf.nn.relu(tf.matmul(h_pool2_flat, W_fc1) + b_fc1)\n",
    "    keep_prob = tf.placeholder(tf.float32)\n",
    "    h_fc1_drop = tf.nn.dropout(h_fc1, keep_prob)\n",
    "# fc layer \n",
    "with tf.variable_scope(\"fc2\"):\n",
    "    W_fc2 = weight_variable([1024, 10])\n",
    "    b_fc2 = bias_variable([10])\n",
    "    prediction = tf.matmul(h_fc1_drop, W_fc2) + b_fc2\n",
    "# train operation\n",
    "with tf.variable_scope(\"train\"):\n",
    "    cross_entropy = tf.reduce_mean(tf.nn.softmax_cross_entropy_with_logits(labels=labels, logits=prediction))\n",
    "    train_step = tf.train.AdamOptimizer(1e-4).minimize(cross_entropy)\n",
    "\n",
    "with tf.variable_scope(\"analysis\"):\n",
    "    correct_prediction = tf.equal(tf.argmax(prediction, 1), tf.argmax(labels, 1))\n",
    "    accuracy = tf.reduce_mean(tf.cast(correct_prediction, tf.float32))\n",
    "    softmax = tf.nn.softmax(logits=prediction)\n",
    "    prediction_label = tf.argmax(prediction,1)\n"
   ]
  },
  {
   "cell_type": "code",
   "execution_count": null,
   "metadata": {
    "colab": {
     "autoexec": {
      "startup": false,
      "wait_interval": 0
     },
     "base_uri": "https://localhost:8080/",
     "height": 119,
     "output_extras": [
      {
       "item_id": 6
      }
     ]
    },
    "colab_type": "code",
    "collapsed": true,
    "executionInfo": {
     "elapsed": 6941,
     "status": "ok",
     "timestamp": 1516832188205,
     "user": {
      "displayName": "Kazuhiro Terao",
      "photoUrl": "//lh5.googleusercontent.com/-_7jpuLVCIyg/AAAAAAAAAAI/AAAAAAAAAKA/FBb7ILdJ9e4/s50-c-k-no/photo.jpg",
      "userId": "101948890834834502389"
     },
     "user_tz": 480
    },
    "id": "5Lq5b4lMGRsa",
    "outputId": "148c5aca-0845-4246-dcc3-6e60d106d8c2",
    "scrolled": false
   },
   "outputs": [],
   "source": [
    "sess = tf.Session(config=tf.ConfigProto(log_device_placement=True))\n",
    "sess.run(tf.global_variables_initializer())\n",
    "\n",
    "enqueue_thread = threading.Thread(target=enqueue, args=[sess])\n",
    "enqueue_thread.daemon = True\n",
    "enqueue_thread.start()\n",
    "\n",
    "coord = tf.train.Coordinator()\n",
    "threads = tf.train.start_queue_runners(coord=coord, sess=sess)\n",
    "run_options = tf.RunOptions(timeout_in_ms=4000) "
   ]
  },
  {
   "cell_type": "code",
   "execution_count": null,
   "metadata": {},
   "outputs": [],
   "source": [
    "# Training w/ 5000 steps\n",
    "import time\n",
    "start = time.time()\n",
    "for i in range(5000):\n",
    "    if i % 100 == 0:\n",
    "        train_accuracy, = sess.run([accuracy],feed_dict={keep_prob: 1.0},options=run_options)\n",
    "        print('step %d, training accuracy %g' % (i, train_accuracy))\n",
    "    sess.run([train_step],feed_dict={keep_prob: 0.5},options=run_options)\n",
    "\n",
    "acc, = sess.run([accuracy],feed_dict={keep_prob:1.0}, options=run_options)    \n",
    "print('test accuracy %g' % acc)\n",
    "print(time.time()-start)     "
   ]
  },
  {
   "cell_type": "code",
   "execution_count": null,
   "metadata": {
    "colab": {
     "autoexec": {
      "startup": false,
      "wait_interval": 0
     },
     "base_uri": "https://localhost:8080/",
     "height": 2667,
     "output_extras": [
      {
       "item_id": 1
      },
      {
       "item_id": 2
      },
      {
       "item_id": 3
      },
      {
       "item_id": 4
      },
      {
       "item_id": 5
      },
      {
       "item_id": 6
      },
      {
       "item_id": 7
      },
      {
       "item_id": 8
      },
      {
       "item_id": 9
      },
      {
       "item_id": 10
      },
      {
       "item_id": 11
      },
      {
       "item_id": 12
      },
      {
       "item_id": 13
      },
      {
       "item_id": 14
      },
      {
       "item_id": 15
      },
      {
       "item_id": 16
      },
      {
       "item_id": 17
      },
      {
       "item_id": 18
      },
      {
       "item_id": 19
      },
      {
       "item_id": 20
      }
     ]
    },
    "colab_type": "code",
    "executionInfo": {
     "elapsed": 1772,
     "status": "ok",
     "timestamp": 1516832594263,
     "user": {
      "displayName": "Kazuhiro Terao",
      "photoUrl": "//lh5.googleusercontent.com/-_7jpuLVCIyg/AAAAAAAAAAI/AAAAAAAAAKA/FBb7ILdJ9e4/s50-c-k-no/photo.jpg",
      "userId": "101948890834834502389"
     },
     "user_tz": 480
    },
    "id": "gnNwvx9mOyTg",
    "outputId": "8f15ba64-d5f7-483c-b78a-8ae3d08f6612",
    "scrolled": false
   },
   "outputs": [],
   "source": [
    "# Dump some output images\n",
    "image2d, prob_array, pred_label, = sess.run([image2d,softmax,prediction_label],feed_dict={keep_prob:1.0},options=run_options)\n",
    "for index in xrange(10):\n",
    "    print 'Prediction\\033[91m',pred_label[index],'\\033[00mwith softmax prob\\033[94m',prob_array[index][pred_label[index]],'\\033[00m'\n",
    "    plt.imshow(image2d[index].reshape([28,28]).astype(np.float32),interpolation='none')\n",
    "    plt.axis('off')\n",
    "    plt.show()\n",
    "\n"
   ]
  },
  {
   "cell_type": "code",
   "execution_count": null,
   "metadata": {
    "collapsed": true
   },
   "outputs": [],
   "source": []
  }
 ],
 "metadata": {
  "accelerator": "GPU",
  "colab": {
   "default_view": {},
   "name": "MNIST+Tensorflow.ipynb",
   "provenance": [],
   "version": "0.3.2",
   "views": {}
  },
  "kernelspec": {
   "display_name": "Python 2",
   "language": "python",
   "name": "python2"
  },
  "language_info": {
   "codemirror_mode": {
    "name": "ipython",
    "version": 2
   },
   "file_extension": ".py",
   "mimetype": "text/x-python",
   "name": "python",
   "nbconvert_exporter": "python",
   "pygments_lexer": "ipython2",
   "version": "2.7.6"
  }
 },
 "nbformat": 4,
 "nbformat_minor": 1
}
