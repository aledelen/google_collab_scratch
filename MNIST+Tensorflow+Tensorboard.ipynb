{
 "cells": [
  {
   "cell_type": "code",
   "execution_count": null,
   "metadata": {},
   "outputs": [],
   "source": [
    "import threading\n",
    "import numpy as np\n",
    "import matplotlib\n",
    "import matplotlib.pyplot as plt\n",
    "%matplotlib inline\n",
    "import os\n",
    "# tensorflow/gpu start-up configuration\n",
    "os.environ['TF_CPP_MIN_LOG_LEVEL'] = '3'\n",
    "%env CUDA_DEVICE_ORDER=PCI_BUS_ID\n",
    "%env CUDA_VISIBLE_DEVICES=0\n",
    "import tensorflow as tf\n",
    "tf.set_random_seed(123)\n",
    "\n",
    "from tensorflow.examples.tutorials.mnist import input_data\n",
    "mnist = input_data.read_data_sets('MNIST_data', one_hot=True)"
   ]
  },
  {
   "cell_type": "code",
   "execution_count": null,
   "metadata": {
    "collapsed": true
   },
   "outputs": [],
   "source": [
    "def weight_variable(shape):\n",
    "    initial = tf.truncated_normal(shape, stddev=0.1)\n",
    "    return tf.Variable(initial)\n",
    "\n",
    "def bias_variable(shape):\n",
    "    initial = tf.constant(0.1, shape=shape)\n",
    "    return tf.Variable(initial)\n",
    "def conv2d(x, W):\n",
    "    return tf.nn.conv2d(x, W, strides=[1, 1, 1, 1], padding='SAME')\n",
    "\n",
    "def max_pool_2x2(x):\n",
    "    return tf.nn.max_pool(x, ksize=[1, 2, 2, 1],\n",
    "                          strides=[1, 2, 2, 1], padding='SAME')"
   ]
  },
  {
   "cell_type": "code",
   "execution_count": null,
   "metadata": {},
   "outputs": [],
   "source": [
    "images   = tf.placeholder(tf.float32, shape=[None, 784])\n",
    "labels   = tf.placeholder(tf.float32, shape=[None, 10])\n",
    "image2d = tf.reshape(images, [-1, 28, 28, 1])\n",
    "tf.summary.image('images',image2d,10)"
   ]
  },
  {
   "cell_type": "code",
   "execution_count": null,
   "metadata": {
    "collapsed": true
   },
   "outputs": [],
   "source": [
    "\n",
    "# convolution layer\n",
    "with tf.variable_scope(\"conv1\"):\n",
    "    W_conv1 = weight_variable([5, 5, 1, 32])\n",
    "    b_conv1 = bias_variable([32])\n",
    "    h_conv1 = tf.nn.relu(conv2d(image2d, W_conv1) + b_conv1)\n",
    "    tf.summary.histogram('conv1_weights', W_conv1)\n",
    "    tf.summary.histogram('conv1_activation', h_conv1)\n",
    "with tf.variable_scope(\"pool1\"):\n",
    "    h_pool1 = max_pool_2x2(h_conv1)\n",
    "# convolution layer  \n",
    "with tf.variable_scope(\"conv2\"):\n",
    "    W_conv2 = weight_variable([5, 5, 32, 64])\n",
    "    b_conv2 = bias_variable([64])\n",
    "    h_conv2 = tf.nn.relu(conv2d(h_pool1, W_conv2) + b_conv2)\n",
    "    tf.summary.histogram('conv2_weights', W_conv2)\n",
    "    tf.summary.histogram('conv2_activation', h_conv2)\n",
    "with tf.variable_scope(\"pool2\"):\n",
    "    h_pool2 = max_pool_2x2(h_conv2)\n",
    "# fc layer\n",
    "with tf.variable_scope(\"fc1\"):\n",
    "    W_fc1 = weight_variable([7 * 7 * 64, 1024])\n",
    "    b_fc1 = bias_variable([1024])\n",
    "    h_pool2_flat = tf.reshape(h_pool2, [-1, 7*7*64])\n",
    "    h_fc1 = tf.nn.relu(tf.matmul(h_pool2_flat, W_fc1) + b_fc1)\n",
    "    keep_prob = tf.placeholder(tf.float32)\n",
    "    h_fc1_drop = tf.nn.dropout(h_fc1, keep_prob)\n",
    "# fc layer \n",
    "with tf.variable_scope(\"fc2\"):\n",
    "    W_fc2 = weight_variable([1024, 10])\n",
    "    b_fc2 = bias_variable([10])\n",
    "    prediction = tf.matmul(h_fc1_drop, W_fc2) + b_fc2\n",
    "# train operation\n",
    "with tf.variable_scope(\"train\"):\n",
    "    cross_entropy = tf.reduce_mean(tf.nn.softmax_cross_entropy_with_logits(labels=labels, logits=prediction))\n",
    "    train_step = tf.train.AdamOptimizer(1e-4).minimize(cross_entropy)\n",
    "    tf.summary.scalar('loss',cross_entropy)\n",
    "    \n",
    "with tf.variable_scope(\"analysis\"):\n",
    "    correct_prediction = tf.equal(tf.argmax(prediction, 1), tf.argmax(labels, 1))\n",
    "    accuracy = tf.reduce_mean(tf.cast(correct_prediction, tf.float32))\n",
    "    softmax = tf.nn.softmax(logits=prediction)\n",
    "    prediction_label = tf.argmax(prediction,1)\n",
    "    tf.summary.scalar('accuracy',accuracy)\n"
   ]
  },
  {
   "cell_type": "code",
   "execution_count": null,
   "metadata": {},
   "outputs": [],
   "source": [
    "# Training w/ 2000 steps\n",
    "import time\n",
    "sess = tf.InteractiveSession()\n",
    "sess.run(tf.global_variables_initializer())\n",
    "\n",
    "if not os.path.isdir('tb_log'): os.makedirs('tb_log')\n",
    "log_writer = tf.summary.FileWriter('tb_log')\n",
    "log_writer.add_graph(sess.graph)\n",
    "summary_op = tf.summary.merge_all()\n",
    "    \n",
    "start = time.time()\n",
    "for i in range(2000):\n",
    "    batch = mnist.train.next_batch(50)\n",
    "    \n",
    "    if i % 100 == 0:\n",
    "        train_accuracy = accuracy.eval(feed_dict={images: batch[0], labels: batch[1], keep_prob: 1.0})\n",
    "        print('step %d, training accuracy %g' % (i, train_accuracy))\n",
    "\n",
    "    if i % 20 == 0:\n",
    "        s = sess.run(summary_op, feed_dict={images: batch[0], labels: batch[1], keep_prob: 1.0})\n",
    "        log_writer.add_summary(s,i)\n",
    "        \n",
    "    train_step.run(feed_dict={images: batch[0], labels: batch[1], keep_prob: 0.5})\n",
    "\n",
    "print('test accuracy %g' % accuracy.eval(feed_dict={images: mnist.test.images, labels: mnist.test.labels, keep_prob: 1.0}))\n",
    "print(time.time() - start)"
   ]
  },
  {
   "cell_type": "code",
   "execution_count": null,
   "metadata": {
    "scrolled": false
   },
   "outputs": [],
   "source": [
    "# Dump some output images\n",
    "prob_array, pred_label, = sess.run([softmax,prediction_label],feed_dict={images: mnist.test.images,keep_prob:1.0})\n",
    "for index in xrange(10):\n",
    "    print 'Prediction\\033[91m',pred_label[index],'\\033[00mwith softmax prob\\033[94m',prob_array[index][pred_label[index]],'\\033[00m'\n",
    "    plt.imshow(mnist.test.images[index].reshape([28,28]).astype(np.float32),cmap='gray',interpolation='none')\n",
    "    plt.axis('off')\n",
    "    plt.show()"
   ]
  },
  {
   "cell_type": "code",
   "execution_count": null,
   "metadata": {
    "collapsed": true
   },
   "outputs": [],
   "source": []
  }
 ],
 "metadata": {
  "kernelspec": {
   "display_name": "Python 2",
   "language": "python",
   "name": "python2"
  },
  "language_info": {
   "codemirror_mode": {
    "name": "ipython",
    "version": 2
   },
   "file_extension": ".py",
   "mimetype": "text/x-python",
   "name": "python",
   "nbconvert_exporter": "python",
   "pygments_lexer": "ipython2",
   "version": "2.7.6"
  }
 },
 "nbformat": 4,
 "nbformat_minor": 2
}
